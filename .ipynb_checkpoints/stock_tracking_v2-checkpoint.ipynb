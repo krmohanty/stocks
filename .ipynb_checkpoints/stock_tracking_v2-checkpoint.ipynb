{
 "cells": [
  {
   "cell_type": "code",
   "execution_count": 1,
   "metadata": {
    "collapsed": true
   },
   "outputs": [],
   "source": [
    "import pandas as pd\n",
    "import datetime\n",
    "import numpy as np\n",
    "import os"
   ]
  },
  {
   "cell_type": "code",
   "execution_count": 2,
   "metadata": {
    "collapsed": true
   },
   "outputs": [],
   "source": [
    "os.chdir(\"C:\\\\Users\\\\mohantyk\\\\lab\\\\stocks\")\n",
    "\n",
    "with open('p.txt', 'r') as myfile:\n",
    "    pwd=myfile.read().replace('\\n', '')"
   ]
  },
  {
   "cell_type": "code",
   "execution_count": 3,
   "metadata": {
    "collapsed": true
   },
   "outputs": [],
   "source": [
    "#Alert %\n",
    "profit = 25\n",
    "loss = 2"
   ]
  },
  {
   "cell_type": "code",
   "execution_count": 4,
   "metadata": {},
   "outputs": [],
   "source": [
    "ref_table=pd.read_csv('ref_table.csv')"
   ]
  },
  {
   "cell_type": "code",
   "execution_count": 5,
   "metadata": {},
   "outputs": [],
   "source": [
    "ref_table['ref_date']=pd.to_datetime(ref_table.ref_date)"
   ]
  },
  {
   "cell_type": "code",
   "execution_count": 6,
   "metadata": {},
   "outputs": [],
   "source": [
    "stocks_to_track=list(ref_table.stock.values)\n",
    "\n",
    "df_list=[]\n",
    "\n",
    "for x in stocks_to_track:\n",
    "    #print(x)\n",
    "    url=\"https://www.alphavantage.co/query?apikey=6PFVKSN75XGEMU6S&function=TIME_SERIES_DAILY_ADJUSTED&symbol=\"+x+\"&datatype=csv\"\n",
    "    #print(url)\n",
    "    d1=pd.read_csv(url)\n",
    "    d1['stock']=x\n",
    "    df_list.append(d1)\n",
    "\n",
    "df = pd.concat(df_list)\n",
    "\n",
    "df['timestamp']=pd.to_datetime(df.timestamp)"
   ]
  },
  {
   "cell_type": "code",
   "execution_count": 7,
   "metadata": {},
   "outputs": [],
   "source": [
    "df2=df.merge(ref_table,on='stock')"
   ]
  },
  {
   "cell_type": "code",
   "execution_count": 8,
   "metadata": {
    "collapsed": true
   },
   "outputs": [],
   "source": [
    "df2['date']=df2.timestamp.dt.date\n",
    "\n",
    "\n",
    "df2['date']=pd.to_datetime(df2.date)"
   ]
  },
  {
   "cell_type": "code",
   "execution_count": 9,
   "metadata": {
    "collapsed": true
   },
   "outputs": [],
   "source": [
    "max_date=df2.groupby('stock',as_index=False).agg({'date':'max'})\n",
    "\n",
    "max_date.rename(columns={'date':'max_date'},inplace=True)"
   ]
  },
  {
   "cell_type": "code",
   "execution_count": 10,
   "metadata": {
    "collapsed": true
   },
   "outputs": [],
   "source": [
    "df3=df2.merge(max_date,on='stock')\n",
    "\n",
    "now=df3.loc[df3.date==df3.max_date,['stock','close','date']]\n",
    "\n",
    "now.rename(columns={'close':'current_price'},inplace=True)"
   ]
  },
  {
   "cell_type": "code",
   "execution_count": 11,
   "metadata": {
    "collapsed": true
   },
   "outputs": [],
   "source": [
    "data=ref_table.merge(now,on='stock')"
   ]
  },
  {
   "cell_type": "code",
   "execution_count": 12,
   "metadata": {
    "collapsed": true
   },
   "outputs": [],
   "source": [
    "data['days']=data.date-data.ref_date"
   ]
  },
  {
   "cell_type": "code",
   "execution_count": 13,
   "metadata": {},
   "outputs": [],
   "source": [
    "data['perc_diff']=(data.current_price/data.cost -1)*100\n",
    "\n",
    "data['profit_flag'] = np.where(data.perc_diff >= profit,1,0)\n",
    "\n",
    "data['loss_flag'] = np.where(data.perc_diff <= loss,1,0)"
   ]
  },
  {
   "cell_type": "code",
   "execution_count": null,
   "metadata": {},
   "outputs": [],
   "source": [
    "import smtplib\n",
    "\n",
    "from email.mime.multipart import MIMEMultipart\n",
    "from email.mime.text import MIMEText\n",
    "\n",
    "# me == my email address\n",
    "# you == recipient's email address\n",
    "me = \"kirtiraj.careers@gmail.com\"\n",
    "you = \"kr.mohanty@gmail.com\"\n",
    "\n",
    "# Create message container - the correct MIME type is multipart/alternative.\n",
    "msg = MIMEMultipart('alternative')\n",
    "msg['Subject'] = \"Stock Alert\"\n",
    "msg['From'] = me\n",
    "msg['To'] = you\n",
    "\n",
    "# Create the body of the message (a plain-text and an HTML version).\n",
    "#text = \"Hi!\\nHow are you?\\nHere is the link you wanted:\\nhttp://www.python.org\"\n",
    "html = data.to_html()\n",
    "\n",
    "# Record the MIME types of both parts - text/plain and text/html.\n",
    "#part1 = MIMEText(text, 'plain')\n",
    "part2 = MIMEText(html, 'html')\n",
    "\n",
    "# Attach parts into message container.\n",
    "# According to RFC 2046, the last part of a multipart message, in this case\n",
    "# the HTML message, is best and preferred.\n",
    "#msg.attach(part1)\n",
    "msg.attach(part2)\n",
    "\n",
    "if (data.profit_flag.sum() > 0 or data.loss_flag.sum() >0):\n",
    "    # Send the message via local SMTP server.\n",
    "    mail = smtplib.SMTP('smtp.gmail.com', 587)\n",
    "\n",
    "    mail.ehlo()\n",
    "\n",
    "    mail.starttls()\n",
    "\n",
    "    mail.login('kirtiraj.careers', pwd)\n",
    "    mail.sendmail(me, you, msg.as_string())\n",
    "    mail.quit()\n",
    "    print('email sent')"
   ]
  },
  {
   "cell_type": "code",
   "execution_count": null,
   "metadata": {
    "collapsed": true
   },
   "outputs": [],
   "source": []
  }
 ],
 "metadata": {
  "kernelspec": {
   "display_name": "Python 3",
   "language": "python",
   "name": "python3"
  },
  "language_info": {
   "codemirror_mode": {
    "name": "ipython",
    "version": 3
   },
   "file_extension": ".py",
   "mimetype": "text/x-python",
   "name": "python",
   "nbconvert_exporter": "python",
   "pygments_lexer": "ipython3",
   "version": "3.6.2"
  }
 },
 "nbformat": 4,
 "nbformat_minor": 2
}
